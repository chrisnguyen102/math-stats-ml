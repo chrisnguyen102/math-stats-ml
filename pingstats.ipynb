{
 "cells": [
  {
   "cell_type": "markdown",
   "metadata": {},
   "source": [
    "# Phân tích chất lượng kết nối mạng bằng thống kê "
   ]
  },
  {
   "cell_type": "markdown",
   "metadata": {},
   "source": [
    "Nhà có vài cái máy tính, kết nối qua wifi, nhưng các kết nối đều có vẻ rất không ổn định. Nếu không đo đếm, sẽ rất khó nói cho thuyết phục mà chỉ thuộc team chém gió. Vậy thì đo!"
   ]
  },
  {
   "cell_type": "markdown",
   "metadata": {},
   "source": [
    "Cách đo đơn giản nhất là dùng lệnh `ping`, gửi ICMP ECHO request đến vài máy trong và ngoài mạng để phân tích. "
   ]
  },
  {
   "cell_type": "markdown",
   "metadata": {},
   "source": [
    "# ping - lệnh cơ bản của hệ thống mạng"
   ]
  },
  {
   "cell_type": "markdown",
   "metadata": {},
   "source": [
    "Trên mọi hệ điều hành hiện đại đều có lệnh ping, kể cả Windows\n",
    "dù đó là hệ điều hành không thích dùng lệnh cho lắm.\n",
    "\n",
    "Ping gửi 1 ICMP echo packet (gói tin) đến máy đích và\n",
    "chờ nó phản hồi.\n",
    "Chi tiết cách hoạt động của lệnh ping có thể xem tại đây [ping](http://www.familug.org/2014/06/network-ping-pong.html). \n",
    "\n",
    "Còn bài này ta sẽ đo kết quả của lệnh ping tới các máy."
   ]
  },
  {
   "cell_type": "markdown",
   "metadata": {},
   "source": [
    "## Gần nhất - router"
   ]
  },
  {
   "cell_type": "markdown",
   "metadata": {},
   "source": [
    "Mọi thiết bị đi đâu thì cũng phải qua router - một thiết bị mạng mà nhiều khi tích hợp sẵn cả cục và gọi là Modem. \n",
    "Địa chỉ của cục này thường rất dễ suy đoán, nếu IP máy mình là 192.168.1.127 thì cái cục router khả năng cao là 192.168.1.1.\n",
    "Nếu mình là 192.168.0.5 thì cục router sẽ có vẻ là 192.168.0.1.\n",
    "\n",
    "Làm cách có học hơn thì dùng lệnh `ip route` trên Linux:\n",
    "\n",
    "```sh\n",
    "$ ip route\n",
    "default via 192.168.1.100 dev wlan0  proto static  metric 600 \n",
    "```\n",
    "\n",
    "Vậy cục này ở 192.168.1.100. Giờ thì ping"
   ]
  },
  {
   "cell_type": "code",
   "execution_count": 4,
   "metadata": {},
   "outputs": [
    {
     "name": "stdout",
     "output_type": "stream",
     "text": [
      "PING 192.168.1.100 (192.168.1.100) 56(84) bytes of data.\r\n",
      "64 bytes from 192.168.1.100: icmp_seq=1 ttl=64 time=2.15 ms\r\n",
      "\r\n",
      "--- 192.168.1.100 ping statistics ---\r\n",
      "1 packets transmitted, 1 received, 0% packet loss, time 0ms\r\n",
      "rtt min/avg/max/mdev = 2.155/2.155/2.155/0.000 ms\r\n"
     ]
    }
   ],
   "source": [
    "! ping 192.168.1.100 -c 1"
   ]
  },
  {
   "cell_type": "markdown",
   "metadata": {},
   "source": [
    "Thời gian từ lúc gửi đến lúc nhận 1 packet (Round trip time - RTT) của lệnh ping tới router là 2.15 ms - rất nhanh."
   ]
  },
  {
   "cell_type": "markdown",
   "metadata": {},
   "source": [
    "Nhưng về mặt thống kê học, nếu chỉ thử 1 cái, ta chưa thể\n",
    "đưa ra kết luận được. Vậy nên ta thử trên 100 mẫu:"
   ]
  },
  {
   "cell_type": "code",
   "execution_count": 6,
   "metadata": {},
   "outputs": [],
   "source": [
    "import subprocess as spr"
   ]
  },
  {
   "cell_type": "code",
   "execution_count": 8,
   "metadata": {},
   "outputs": [],
   "source": [
    "results = []\n",
    "router = '192.168.1.100'\n",
    "for i in range(100):\n",
    "    try:\n",
    "        results.append(spr.check_output(['ping', '-c1', router]))\n",
    "    except spr.CalledProcessError:\n",
    "        results.append(False)"
   ]
  },
  {
   "cell_type": "code",
   "execution_count": 9,
   "metadata": {},
   "outputs": [
    {
     "data": {
      "text/plain": [
       "5"
      ]
     },
     "execution_count": 9,
     "metadata": {},
     "output_type": "execute_result"
    }
   ],
   "source": [
    "results.count(False)"
   ]
  },
  {
   "cell_type": "markdown",
   "metadata": {},
   "source": [
    "Có 5 câu lệnh không thành công. Ta kiểm tra số còn lại:"
   ]
  },
  {
   "cell_type": "code",
   "execution_count": 10,
   "metadata": {},
   "outputs": [],
   "source": [
    "successes = [r for r in results if r]"
   ]
  },
  {
   "cell_type": "code",
   "execution_count": 11,
   "metadata": {},
   "outputs": [
    {
     "data": {
      "text/plain": [
       "95"
      ]
     },
     "execution_count": 11,
     "metadata": {},
     "output_type": "execute_result"
    }
   ],
   "source": [
    "len(successes)"
   ]
  },
  {
   "cell_type": "code",
   "execution_count": 12,
   "metadata": {},
   "outputs": [],
   "source": [
    "first = successes[0]"
   ]
  },
  {
   "cell_type": "code",
   "execution_count": 13,
   "metadata": {},
   "outputs": [
    {
     "data": {
      "text/plain": [
       "b'PING 192.168.1.100 (192.168.1.100) 56(84) bytes of data.\\n64 bytes from 192.168.1.100: icmp_seq=1 ttl=64 time=13.4 ms\\n\\n--- 192.168.1.100 ping statistics ---\\n1 packets transmitted, 1 received, 0% packet loss, time 0ms\\nrtt min/avg/max/mdev = 13.480/13.480/13.480/0.000 ms\\n'"
      ]
     },
     "execution_count": 13,
     "metadata": {},
     "output_type": "execute_result"
    }
   ],
   "source": [
    "first"
   ]
  },
  {
   "cell_type": "code",
   "execution_count": 20,
   "metadata": {},
   "outputs": [
    {
     "data": {
      "text/plain": [
       "13.48"
      ]
     },
     "execution_count": 20,
     "metadata": {},
     "output_type": "execute_result"
    }
   ],
   "source": [
    "float(first.decode('utf-8').split()[-2].split('/')[0])"
   ]
  },
  {
   "cell_type": "markdown",
   "metadata": {},
   "source": [
    "kết quả của các câu lệnh là dạng byte, ta cần convert thành string bằng `decode('utf-8')`, sau đó chia ra các phần phân bởi dấu space và xuống dòng, lấy giá trị rtt min (round trip time - ở đây lấy min max gì cũng được vì ta chỉ ping 1 phát)."
   ]
  },
  {
   "cell_type": "code",
   "execution_count": 21,
   "metadata": {},
   "outputs": [],
   "source": [
    "rtts = [float(r.decode('utf-8').split()[-2].split('/')[0]) for r \n",
    "       in successes]"
   ]
  },
  {
   "cell_type": "code",
   "execution_count": 22,
   "metadata": {},
   "outputs": [
    {
     "data": {
      "text/plain": [
       "[13.48, 3.352, 3.64, 4.279, 1.496, 1.526, 1.228, 2.47, 3.188, 2.744]"
      ]
     },
     "execution_count": 22,
     "metadata": {},
     "output_type": "execute_result"
    }
   ],
   "source": [
    "rtts[:10]"
   ]
  },
  {
   "cell_type": "code",
   "execution_count": 23,
   "metadata": {},
   "outputs": [],
   "source": [
    "import pandas as pd"
   ]
  },
  {
   "cell_type": "code",
   "execution_count": 24,
   "metadata": {},
   "outputs": [],
   "source": [
    "%matplotlib inline"
   ]
  },
  {
   "cell_type": "code",
   "execution_count": 25,
   "metadata": {},
   "outputs": [],
   "source": [
    "rtt_series = pd.Series(rtts)"
   ]
  },
  {
   "cell_type": "code",
   "execution_count": 26,
   "metadata": {},
   "outputs": [
    {
     "data": {
      "text/plain": [
       "<matplotlib.axes._subplots.AxesSubplot object at 0x7fa6ab2219b0>"
      ]
     },
     "execution_count": 26,
     "metadata": {},
     "output_type": "execute_result"
    },
    {
     "data": {
      "image/png": "[encoded data removed]",
      "text/plain": [
       "<matplotlib.figure.Figure object at 0x7fa6ab222710>"
      ]
     },
     "metadata": {},
     "output_type": "display_data"
    }
   ],
   "source": [
    "rtt_series.plot.bar()"
   ]
  },
  {
   "cell_type": "code",
   "execution_count": 28,
   "metadata": {},
   "outputs": [
    {
     "data": {
      "text/plain": [
       "<matplotlib.axes._subplots.AxesSubplot object at 0x7fa6a8910518>"
      ]
     },
     "execution_count": 28,
     "metadata": {},
     "output_type": "execute_result"
    },
    {
     "data": {
      "image/png": "[encoded data removed]",
      "text/plain": [
       "<matplotlib.figure.Figure object at 0x7fa6a8934e48>"
      ]
     },
     "metadata": {},
     "output_type": "display_data"
    }
   ],
   "source": [
    "rtt_series.sort_values().plot.bar()"
   ]
  },
  {
   "cell_type": "code",
   "execution_count": 29,
   "metadata": {},
   "outputs": [
    {
     "data": {
      "text/plain": [
       "<matplotlib.axes._subplots.AxesSubplot object at 0x7fa6a893bb70>"
      ]
     },
     "execution_count": 29,
     "metadata": {},
     "output_type": "execute_result"
    },
    {
     "data": {
      "image/png": "[encoded data removed]",
      "text/plain": [
       "<matplotlib.figure.Figure object at 0x7fa6a8bf79e8>"
      ]
     },
     "metadata": {},
     "output_type": "display_data"
    }
   ],
   "source": [
    "rtt_series.hist()"
   ]
  },
  {
   "cell_type": "markdown",
   "metadata": {},
   "source": [
    "Biểu đồ trên cho thấy hơn 50 % kết quả là < 3ms. Chưa rõ là tốt hay không. Ta cần thử với các thiết bị khác trọng mạng. Nhưng đây sẽ là kết quả tốt nhất ta có, vì đây là router."
   ]
  },
  {
   "cell_type": "code",
   "execution_count": 76,
   "metadata": {},
   "outputs": [],
   "source": [
    "def do_n_ping_and_plot_histogram(host, n=100):\n",
    "    results = []\n",
    "    for i in range(n):\n",
    "        try:\n",
    "            results.append(spr.check_output(['ping', '-c1', host]))\n",
    "        except spr.CalledProcessError:\n",
    "            results.append(False)\n",
    "    \n",
    "    print('Failed {} times'.format(results.count(False)))\n",
    "    successes = [r for r in results if r]\n",
    "    rtts = [float(r.decode('utf-8').split()[-2].split('/')[0]) for r \n",
    "            in successes]\n",
    "    rtt_series = pd.Series(rtts)\n",
    "    print(rtt_series.describe())\n",
    "    rtt_series.hist()\n",
    "    return rtt_series"
   ]
  },
  {
   "cell_type": "code",
   "execution_count": 38,
   "metadata": {},
   "outputs": [
    {
     "name": "stdout",
     "output_type": "stream",
     "text": [
      "Failed 12 times\n",
      "count    88.000000\n",
      "mean      5.895670\n",
      "std       5.394742\n",
      "min       2.082000\n",
      "25%       2.606500\n",
      "50%       4.586000\n",
      "75%       6.620750\n",
      "max      36.089000\n",
      "dtype: float64\n"
     ]
    },
    {
     "data": {
      "image/png": "[encoded data removed]",
      "text/plain": [
       "<matplotlib.figure.Figure object at 0x7fa6a8b806d8>"
      ]
     },
     "metadata": {},
     "output_type": "display_data"
    }
   ],
   "source": [
    "rtts = do_n_ping_and_plot_histogram('192.168.1.131')"
   ]
  },
  {
   "cell_type": "markdown",
   "metadata": {},
   "source": [
    "Có tới 12 packet fail và số còn lại hầu hết đều < 6ms."
   ]
  },
  {
   "cell_type": "markdown",
   "metadata": {},
   "source": [
    "Lệnh ping có cung cấp các số liệu thống kê mô tả:\n",
    "    \n",
    "```\n",
    "$ ping 192.168.1.100 -c3\n",
    "PING 192.168.1.100 (192.168.1.100) 56(84) bytes of data.\n",
    "64 bytes from 192.168.1.100: icmp_seq=1 ttl=64 time=147 ms\n",
    "64 bytes from 192.168.1.100: icmp_seq=2 ttl=64 time=3.09 ms\n",
    "64 bytes from 192.168.1.100: icmp_seq=3 ttl=64 time=7.38 ms\n",
    "\n",
    "--- 192.168.1.100 ping statistics ---\n",
    "3 packets transmitted, 3 received, 0% packet loss, time 2002ms\n",
    "rtt min/avg/max/mdev = 3.092/52.635/147.433/67.055 ms\n",
    "```"
   ]
  },
  {
   "cell_type": "markdown",
   "metadata": {},
   "source": [
    "Nhưng các số liệu thống kê mô tả (describe statistics) như min, average, max, moving deviation không thể nào so sánh với đồ thị histogram của ta. "
   ]
  },
  {
   "cell_type": "markdown",
   "metadata": {},
   "source": [
    "# Thử với 1 host ở xa, vd 8.8.8.8 - DNS của Google,  1.1.1.1 DNS của cloudflare, 203.162.4.191 DNS của VNPT"
   ]
  },
  {
   "cell_type": "code",
   "execution_count": 39,
   "metadata": {},
   "outputs": [
    {
     "name": "stdout",
     "output_type": "stream",
     "text": [
      "Failed 17 times\n",
      "count     83.000000\n",
      "mean      40.226771\n",
      "std       39.253032\n",
      "min       28.429000\n",
      "25%       29.149000\n",
      "50%       30.121000\n",
      "75%       33.955000\n",
      "max      344.391000\n",
      "dtype: float64\n",
      "Failed 18 times\n",
      "count     82.000000\n",
      "mean      46.180524\n",
      "std       63.609518\n",
      "min       30.765000\n",
      "25%       32.052000\n",
      "50%       34.411000\n",
      "75%       39.951750\n",
      "max      584.523000\n",
      "dtype: float64\n",
      "Failed 24 times\n",
      "count     76.000000\n",
      "mean      16.718882\n",
      "std       43.635468\n",
      "min        2.570000\n",
      "25%        3.180750\n",
      "50%        5.287000\n",
      "75%        9.860500\n",
      "max      337.613000\n",
      "dtype: float64\n"
     ]
    },
    {
     "data": {
      "image/png": "[encoded data removed]",
      "text/plain": [
       "<matplotlib.figure.Figure object at 0x7fa6a87feac8>"
      ]
     },
     "metadata": {},
     "output_type": "display_data"
    }
   ],
   "source": [
    "data = []\n",
    "for ip in '8.8.8.8', '1.1.1.1', '203.162.4.191':\n",
    "    data.append(do_n_ping_and_plot_histogram(ip, n=100))"
   ]
  },
  {
   "cell_type": "code",
   "execution_count": 46,
   "metadata": {},
   "outputs": [
    {
     "data": {
      "text/plain": [
       "76"
      ]
     },
     "execution_count": 46,
     "metadata": {},
     "output_type": "execute_result"
    }
   ],
   "source": [
    "min([len(r) for r in data])"
   ]
  },
  {
   "cell_type": "code",
   "execution_count": 53,
   "metadata": {},
   "outputs": [
    {
     "data": {
      "text/plain": [
       "29.690999999999999"
      ]
     },
     "execution_count": 53,
     "metadata": {},
     "output_type": "execute_result"
    }
   ],
   "source": [
    "data[0][0]"
   ]
  },
  {
   "cell_type": "markdown",
   "metadata": {},
   "source": []
  },
  {
   "cell_type": "code",
   "execution_count": 47,
   "metadata": {},
   "outputs": [],
   "source": [
    "equal_data = [r[:76] for r in data]"
   ]
  },
  {
   "cell_type": "code",
   "execution_count": 49,
   "metadata": {},
   "outputs": [],
   "source": [
    "import numpy as np"
   ]
  },
  {
   "cell_type": "code",
   "execution_count": 59,
   "metadata": {
    "scrolled": false
   },
   "outputs": [
    {
     "data": {
      "text/plain": [
       "<matplotlib.axes._subplots.AxesSubplot object at 0x7fa6a8117978>"
      ]
     },
     "execution_count": 59,
     "metadata": {},
     "output_type": "execute_result"
    },
    {
     "data": {
      "image/png": "[encoded data removed]",
      "text/plain": [
       "<matplotlib.figure.Figure object at 0x7fa6a811cf28>"
      ]
     },
     "metadata": {},
     "output_type": "display_data"
    }
   ],
   "source": [
    "df = pd.DataFrame(columns=['8.8.8.8', '1.1.1.1', '203.162.4.191'],\n",
    "             data=np.array(equal_data).reshape((-1, 3)))\n",
    "df.plot()"
   ]
  },
  {
   "cell_type": "code",
   "execution_count": 69,
   "metadata": {
    "scrolled": true
   },
   "outputs": [
    {
     "data": {
      "text/plain": [
       "array([[<matplotlib.axes._subplots.AxesSubplot object at 0x7fa6a4149588>,\n",
       "        <matplotlib.axes._subplots.AxesSubplot object at 0x7fa6a43ab0f0>],\n",
       "       [<matplotlib.axes._subplots.AxesSubplot object at 0x7fa6a5f5db38>,\n",
       "        <matplotlib.axes._subplots.AxesSubplot object at 0x7fa6a6d964e0>]], dtype=object)"
      ]
     },
     "execution_count": 69,
     "metadata": {},
     "output_type": "execute_result"
    },
    {
     "data": {
      "image/png": "[encoded data removed]",
      "text/plain": [
       "<matplotlib.figure.Figure object at 0x7fa6a42ccac8>"
      ]
     },
     "metadata": {},
     "output_type": "display_data"
    }
   ],
   "source": [
    "df.hist()"
   ]
  },
  {
   "cell_type": "code",
   "execution_count": null,
   "metadata": {},
   "outputs": [],
   "source": [
    "import matplotlib.pyplot as plt"
   ]
  },
  {
   "cell_type": "code",
   "execution_count": null,
   "metadata": {},
   "outputs": [],
   "source": []
  },
  {
   "cell_type": "code",
   "execution_count": 74,
   "metadata": {
    "scrolled": true
   },
   "outputs": [
    {
     "data": {
      "text/plain": [
       "<matplotlib.legend.Legend object at 0x7fa6a4238e80>"
      ]
     },
     "execution_count": 74,
     "metadata": {},
     "output_type": "execute_result"
    },
    {
     "data": {
      "image/png": "[encoded data removed]",
      "text/plain": [
       "<matplotlib.figure.Figure object at 0x7fa6a42388d0>"
      ]
     },
     "metadata": {},
     "output_type": "display_data"
    }
   ],
   "source": [
    "for col in df.columns:\n",
    "    df[col].hist(alpha=0.8, label=col)\n",
    "plt.legend(loc='upper right')"
   ]
  },
  {
   "cell_type": "markdown",
   "metadata": {},
   "source": [
    "PS: đoạn code trên có thể thay bằng\n",
    "```python\n",
    "df.plot(kind='hist', alpha=80)\n",
    "```\n",
    "\n",
    "Với phiên bản pandas mới nhất tại thời điểm viết: pandas==0.20.2"
   ]
  },
  {
   "cell_type": "markdown",
   "metadata": {},
   "source": [
    "Có thể thấy ping các nhà cung cấp DNS quốc tế, RTT ~ 40 ms, VNPT cho kết quả tốt hơn hẳn với giá trị trung bình cỡ 16 ms - không có gì đáng ngạc nhiên hay khen ngơi, vì mạng mình đang dùng là của:"
   ]
  },
  {
   "cell_type": "code",
   "execution_count": 75,
   "metadata": {
    "scrolled": true
   },
   "outputs": [
    {
     "name": "stdout",
     "output_type": "stream",
     "text": [
      "{\n",
      "  \"ip\": \"27.77.251.201\",\n",
      "  \"hostname\": \"localhost\",\n",
      "  \"city\": \"Ho Chi Minh City\",\n",
      "  \"region\": \"Ho Chi Minh City\",\n",
      "  \"country\": \"VN\",\n",
      "  \"loc\": \"10.8142,106.6440\",\n",
      "  \"org\": \"AS7552 Viettel Group\"\n",
      "}\n"
     ]
    }
   ],
   "source": [
    "import requests\n",
    "print(requests.get('https://ipinfo.io').text)"
   ]
  },
  {
   "cell_type": "markdown",
   "metadata": {},
   "source": [
    "ISP là Viettel.\n",
    "\n",
    "- Chuyện mạng trong nước nhanh hơn mạng nước ngoài không có gì phải bàn cả.\n",
    "- 1.1.1.1 trong bài test này chậm hơn so với 8.8.8.8 cỡ ~ 10ms\n",
    "- Chất lượng mạng/wifi khá tồi khi tỷ lệ packet fail là ~ 20% ra internet và ~ 10% trong mạng LAN."
   ]
  },
  {
   "cell_type": "markdown",
   "metadata": {},
   "source": [
    "# Cải tiến\n",
    "- Ở đây ta thực hiện 100 cú ping lần lượt, họat động này có thể thực hiện song song bằng cách dùng thread hay async, thế nhưng ping 100 lần tới cùng 1 thiết bị rồi đo sẽ không đảm bảo do đường truyền và đích đều hoạt động khác đi so với khi ping lần lượt. "
   ]
  },
  {
   "cell_type": "markdown",
   "metadata": {},
   "source": [
    "Hết.\n",
    "\n",
    "HVN at https://pymi.vn and http://www.familug.org"
   ]
  },
  {
   "cell_type": "code",
   "execution_count": 79,
   "metadata": {
    "scrolled": true
   },
   "outputs": [
    {
     "name": "stdout",
     "output_type": "stream",
     "text": [
      "2018-04-21 17:38:07.035475\n"
     ]
    }
   ],
   "source": [
    "import datetime; print(datetime.datetime.now())"
   ]
  }
 ],
 "metadata": {
  "kernelspec": {
   "display_name": "Python 3",
   "language": "python",
   "name": "python3"
  },
  "language_info": {
   "codemirror_mode": {
    "name": "ipython",
    "version": 3
   },
   "file_extension": ".py",
   "mimetype": "text/x-python",
   "name": "python",
   "nbconvert_exporter": "python",
   "pygments_lexer": "ipython3",
   "version": "3.5.2"
  }
 },
 "nbformat": 4,
 "nbformat_minor": 2
}
