{
 "cells": [
  {
   "cell_type": "markdown",
   "metadata": {},
   "source": [
    "# Chúng ta đã làm xấu vẻ đẹp của hàm số ở trường học thế nào?\n",
    "(hay vẽ đồ thị hàm số với Matplotlib)\n",
    "by HVN at https://pymi.vn \n",
    "\n",
    "Toán học vốn được dạy một cách khô khan ở hầu hết các lớp học toán, tất cả các \n",
    "cấp học từ phổ thông đến đại học.\n",
    "Không thể trách có những người ghét toán, sợ toán, trong khi ở phía khác, có những\n",
    "người khen toán học đẹp đẽ và tuyệt vời. \n",
    "\n",
    "Với những người \"hiểu\" toán, đồ thị và hàm số là những công cụ tuyệt vời, \n",
    "đẹp đẽ.\n",
    "\n",
    "Đối với phần còn lại, đồ thị là một bài toán cần phải khảo sát và kiếm 1 điểm trong \n",
    "đề thi đại học (tôi thi đại học năm 2008 - giờ người ta còn khảo sát hàm số khi \n",
    "thi đại học không?)."
   ]
  },
  {
   "cell_type": "markdown",
   "metadata": {},
   "source": [
    "## Hàm số là gì? để làm gì?\n",
    "\n",
    "Có lẽ với mỗi chúng ta, ai học qua lớp 6, lớp 7, cũng đã dùng hàm số rồi,\n",
    "có thể hiểu nó là cái gì rồi. Nhưng chẳng bao giờ mang nó ra dùng ở đâu \n",
    "ngoài lớp học, hoặc có khi dùng, thì lại không biết.\n",
    "\n",
    "Tôi không còn nhớ sách giáo khoa phổ thông định nghĩa hàm số là gì, nhưng \n",
    "có thể mô tả nôm na là:\n",
    "\n",
    "> một cách biểu diễn mối quan hệ giữa một giá trị với một hoặc nhiều giá trị khác.\n",
    "\n",
    "Ví dụ: `y = 2x` là một hàm số đơn giản. \n",
    "\n",
    "Khi ta đưa mỗi giá trị vào `x`, ta tính được `y`.\n",
    "\n",
    "Với `x = 5`, `y = 2*5 = 10`.\n",
    "\n",
    "### Bảng cửu chương\n",
    "\n",
    "\n",
    "`x` với `y` nghe lại có vẻ toán học, khiến nhiều người thấy ngán, thì hãy \n",
    "xem trong ví dụ đời thường, ta đã dùng hàm số này mà không thèm để ý:\n",
    "một cái bánh rán giá 2000, mua 5 cái thì phải rút 10000 VND ra trả.\n",
    "\n",
    "Mối quan hệ này thay vì dùng từ \"hàm số\", đã được đưa vào \"bảng cửu chương\"\n",
    "và chạy cho trẻ con lớp 2 học vẹt cho đến thuộc cả đời. Nhưng đừng quên, \n",
    "mối quan hệ giữa kết quả, 5 nhân 2 bằng 10 trong bảng cửu chương 5 chỉ là một\n",
    "giá trị có thể biểu diễn bởi hàm số `y = 5x`.\n",
    "\n",
    "Hàng ngày, ta vẫn dùng những hàm số đơn giản đó, tự chuyển hoá từ bưởi, cam, chanh, bánh bao,\n",
    "bánh rán thành `x`, tính ra `y` và gọi đó là tiền, một cách vô thức."
   ]
  },
  {
   "cell_type": "code",
   "execution_count": 42,
   "metadata": {
    "collapsed": false
   },
   "outputs": [],
   "source": [
    "import pandas as pd\n",
    "import numpy as np\n",
    "\n",
    "rs = np.arange(1, 11)\n",
    "rs = np.reshape(rs, (-1, 1))\n",
    "cls = np.arange(2, 10)\n",
    "data= rs * (cls +  np.reshape(np.zeros(10), (-1, 1)))\n",
    "df = pd.DataFrame(index=rs, columns=cls, data=data, dtype=np.int32)"
   ]
  },
  {
   "cell_type": "code",
   "execution_count": 43,
   "metadata": {
    "collapsed": false
   },
   "outputs": [
    {
     "data": {
      "text/html": [
       "<div>\n",
       "<table border=\"1\" class=\"dataframe\">\n",
       "  <thead>\n",
       "    <tr style=\"text-align: right;\">\n",
       "      <th></th>\n",
       "      <th>2</th>\n",
       "      <th>3</th>\n",
       "      <th>4</th>\n",
       "      <th>5</th>\n",
       "      <th>6</th>\n",
       "      <th>7</th>\n",
       "      <th>8</th>\n",
       "      <th>9</th>\n",
       "    </tr>\n",
       "  </thead>\n",
       "  <tbody>\n",
       "    <tr>\n",
       "      <th>1</th>\n",
       "      <td>2</td>\n",
       "      <td>3</td>\n",
       "      <td>4</td>\n",
       "      <td>5</td>\n",
       "      <td>6</td>\n",
       "      <td>7</td>\n",
       "      <td>8</td>\n",
       "      <td>9</td>\n",
       "    </tr>\n",
       "    <tr>\n",
       "      <th>2</th>\n",
       "      <td>4</td>\n",
       "      <td>6</td>\n",
       "      <td>8</td>\n",
       "      <td>10</td>\n",
       "      <td>12</td>\n",
       "      <td>14</td>\n",
       "      <td>16</td>\n",
       "      <td>18</td>\n",
       "    </tr>\n",
       "    <tr>\n",
       "      <th>3</th>\n",
       "      <td>6</td>\n",
       "      <td>9</td>\n",
       "      <td>12</td>\n",
       "      <td>15</td>\n",
       "      <td>18</td>\n",
       "      <td>21</td>\n",
       "      <td>24</td>\n",
       "      <td>27</td>\n",
       "    </tr>\n",
       "    <tr>\n",
       "      <th>4</th>\n",
       "      <td>8</td>\n",
       "      <td>12</td>\n",
       "      <td>16</td>\n",
       "      <td>20</td>\n",
       "      <td>24</td>\n",
       "      <td>28</td>\n",
       "      <td>32</td>\n",
       "      <td>36</td>\n",
       "    </tr>\n",
       "    <tr>\n",
       "      <th>5</th>\n",
       "      <td>10</td>\n",
       "      <td>15</td>\n",
       "      <td>20</td>\n",
       "      <td>25</td>\n",
       "      <td>30</td>\n",
       "      <td>35</td>\n",
       "      <td>40</td>\n",
       "      <td>45</td>\n",
       "    </tr>\n",
       "    <tr>\n",
       "      <th>6</th>\n",
       "      <td>12</td>\n",
       "      <td>18</td>\n",
       "      <td>24</td>\n",
       "      <td>30</td>\n",
       "      <td>36</td>\n",
       "      <td>42</td>\n",
       "      <td>48</td>\n",
       "      <td>54</td>\n",
       "    </tr>\n",
       "    <tr>\n",
       "      <th>7</th>\n",
       "      <td>14</td>\n",
       "      <td>21</td>\n",
       "      <td>28</td>\n",
       "      <td>35</td>\n",
       "      <td>42</td>\n",
       "      <td>49</td>\n",
       "      <td>56</td>\n",
       "      <td>63</td>\n",
       "    </tr>\n",
       "    <tr>\n",
       "      <th>8</th>\n",
       "      <td>16</td>\n",
       "      <td>24</td>\n",
       "      <td>32</td>\n",
       "      <td>40</td>\n",
       "      <td>48</td>\n",
       "      <td>56</td>\n",
       "      <td>64</td>\n",
       "      <td>72</td>\n",
       "    </tr>\n",
       "    <tr>\n",
       "      <th>9</th>\n",
       "      <td>18</td>\n",
       "      <td>27</td>\n",
       "      <td>36</td>\n",
       "      <td>45</td>\n",
       "      <td>54</td>\n",
       "      <td>63</td>\n",
       "      <td>72</td>\n",
       "      <td>81</td>\n",
       "    </tr>\n",
       "    <tr>\n",
       "      <th>10</th>\n",
       "      <td>20</td>\n",
       "      <td>30</td>\n",
       "      <td>40</td>\n",
       "      <td>50</td>\n",
       "      <td>60</td>\n",
       "      <td>70</td>\n",
       "      <td>80</td>\n",
       "      <td>90</td>\n",
       "    </tr>\n",
       "  </tbody>\n",
       "</table>\n",
       "</div>"
      ],
      "text/plain": [
       "     2   3   4   5   6   7   8   9\n",
       "1    2   3   4   5   6   7   8   9\n",
       "2    4   6   8  10  12  14  16  18\n",
       "3    6   9  12  15  18  21  24  27\n",
       "4    8  12  16  20  24  28  32  36\n",
       "5   10  15  20  25  30  35  40  45\n",
       "6   12  18  24  30  36  42  48  54\n",
       "7   14  21  28  35  42  49  56  63\n",
       "8   16  24  32  40  48  56  64  72\n",
       "9   18  27  36  45  54  63  72  81\n",
       "10  20  30  40  50  60  70  80  90"
      ]
     },
     "execution_count": 43,
     "metadata": {},
     "output_type": "execute_result"
    }
   ],
   "source": [
    "df"
   ]
  },
  {
   "cell_type": "markdown",
   "metadata": {},
   "source": [
    "## Vẽ đồ thị \n",
    "\n",
    "Khi ở trường học, hàm số là một thứ chỉ để mang đi thi, có đôi khi mang ra dùng mà không biết,\n",
    "thì đồ thị, tuyệt đối chỉ để mang đi thi và chả bao giờ dùng. Nhưng bài toán khảo sát hàm số,\n",
    "tìm cực đại cực tiểu của hàm số, tìm tiếp tuyến... tất cả chỉ để đi thi, lấy điểm 10.\n",
    "\n",
    "Không, đó không phải lý do người ta nghĩ ra \"đồ thị hàm số\". Đồ thị không phải là đồ chơi, khảo\n",
    "sát không phải để lấy điểm 10.\n",
    "\n",
    "Đồ thị là một hình ảnh biểu diễn mối quan hệ, mà với con người, 1 hình ảnh đáng giá \n",
    "ngàn lời nói.\n",
    "\n",
    "## Vẽ đồ thị với matplotlib - Python\n",
    "\n",
    "Khi vẽ bằng tay, vừa xấu, vừa khó, thì các ngôn ngữ lập trình, đặc biệt là Python với thư viện `matplotlib`, cho\n",
    "phép ta vẽ hình đẹp, nhanh, và chính xác."
   ]
  },
  {
   "cell_type": "code",
   "execution_count": 55,
   "metadata": {
    "collapsed": false
   },
   "outputs": [],
   "source": [
    "import matplotlib.pyplot as plt\n",
    "# khi dùng trên Jupyter, thêm dòng sau để vẽ ngay tại Jupyter thay vì ghi ra file ảnh.\n",
    "%matplotlib inline\n",
    "\n",
    "# thêm các dòng sau để hình vẽ có tiếng Việt\n",
    "import matplotlib\n",
    "matplotlib.rc('font', family='Arial')\n",
    "\n",
    "# thêm dòng này để hình vẽ có màu đẹp hơn \n",
    "matplotlib.style.use('ggplot')"
   ]
  },
  {
   "cell_type": "code",
   "execution_count": 60,
   "metadata": {
    "collapsed": false
   },
   "outputs": [
    {
     "data": {
      "text/plain": [
       "<matplotlib.text.Text at 0x10aef7940>"
      ]
     },
     "execution_count": 60,
     "metadata": {},
     "output_type": "execute_result"
    },
    {
     "data": {
      "image/png": "[encoded data removed]",
      "text/plain": [
       "<matplotlib.figure.Figure at 0x10b581748>"
      ]
     },
     "metadata": {},
     "output_type": "display_data"
    }
   ],
   "source": [
    "x = np.arange(11)\n",
    "y = 5 * x\n",
    "\n",
    "plt.plot(x, y, x, y, 'bx')\n",
    "plt.title('Bảng cửu chương 5 biểu diễn trên đồ thị')\n",
    "plt.xlabel('x')\n",
    "plt.ylabel('y')"
   ]
  },
  {
   "cell_type": "markdown",
   "metadata": {},
   "source": [
    "## Tuyến tính (linear)\n",
    "\n",
    "Hàm số `y = 5x` khi biểu diễn lên đồ thị, là một đường thẳng, trong toán học gọi hàm số\n",
    "`y = 5x` là một hàm số tuyến tính (tuyến - đường thẳng => hàm số có tính chất đường thẳng).\n",
    "\n",
    "Dễ thấy bậc (số mũ) của `x` trong hàm số này là 1. Vì vậy nói hàm bậc 1 là hàm tuyến tính.\n",
    "Một hàm số bậc 1 có công thức tổng quát là `y = ax + b`.\n",
    "\n",
    "Vậy `y = 5x` thì khác gì `y = -5x` và khác gì `y = 5x + 6` ? \n",
    "\n",
    "Một hình vẽ sẽ thay ngàn lời nói"
   ]
  },
  {
   "cell_type": "code",
   "execution_count": 67,
   "metadata": {
    "collapsed": false
   },
   "outputs": [
    {
     "data": {
      "text/plain": [
       "<matplotlib.legend.Legend at 0x10b933978>"
      ]
     },
     "execution_count": 67,
     "metadata": {},
     "output_type": "execute_result"
    },
    {
     "data": {
      "image/png": "[encoded data removed]",
      "text/plain": [
       "<matplotlib.figure.Figure at 0x10ad37a58>"
      ]
     },
     "metadata": {},
     "output_type": "display_data"
    }
   ],
   "source": [
    "x = np.arange(7)\n",
    "f1 = 5 * x\n",
    "f2 = -5 * x\n",
    "f3 = 5 * x + 6\n",
    "plt.plot(x, f1, x, f2, x, f3)\n",
    "plt.legend(['y = 5x', 'y = -5x', 'y = 5x + 6'])"
   ]
  },
  {
   "cell_type": "markdown",
   "metadata": {},
   "source": [
    "## Phi tuyến - non-linear\n",
    "Còn với những hàm số có đồ thị không thẳng, toán học gọi là phi tuyến (phi = không) trong \n",
    "tiếng anh gọi là non-linear.\n",
    "\n",
    "Các đồ thị hàm số sau đây không có tính đường thẳng: \n",
    "`y = sin(x)`, $y = \\sqrt x$, $y = log(x)$"
   ]
  },
  {
   "cell_type": "code",
   "execution_count": 92,
   "metadata": {
    "collapsed": false
   },
   "outputs": [
    {
     "name": "stderr",
     "output_type": "stream",
     "text": [
      "/Users/hvn/python36/lib/python3.6/site-packages/ipykernel/__main__.py:3: RuntimeWarning: invalid value encountered in sqrt\n",
      "  app.launch_new_instance()\n",
      "/Users/hvn/python36/lib/python3.6/site-packages/ipykernel/__main__.py:4: RuntimeWarning: invalid value encountered in log\n"
     ]
    },
    {
     "data": {
      "text/plain": [
       "<matplotlib.legend.Legend at 0x10d34ea90>"
      ]
     },
     "execution_count": 92,
     "metadata": {},
     "output_type": "execute_result"
    },
    {
     "data": {
      "image/png": "[encoded data removed]",
      "text/plain": [
       "<matplotlib.figure.Figure at 0x10ce23198>"
      ]
     },
     "metadata": {},
     "output_type": "display_data"
    }
   ],
   "source": [
    "x = np.linspace(-2, 5, 100)\n",
    "f1 = np.sin(x)\n",
    "f2 = np.sqrt(x)\n",
    "f3 = np.log(x)\n",
    "plt.plot(x, f1, x, f2, x, f3)\n",
    "plt.axhline()\n",
    "plt.axvline()\n",
    "plt.legend(['y = sin(x)', 'y = sqrt(2)', 'y = log(x)'])"
   ]
  },
  {
   "cell_type": "markdown",
   "metadata": {},
   "source": [
    "Hay các hàm số mà x có bậc 2, 3, ..."
   ]
  },
  {
   "cell_type": "code",
   "execution_count": 100,
   "metadata": {
    "collapsed": false
   },
   "outputs": [
    {
     "data": {
      "text/plain": [
       "<matplotlib.legend.Legend at 0x10e7a8908>"
      ]
     },
     "execution_count": 100,
     "metadata": {},
     "output_type": "execute_result"
    },
    {
     "data": {
      "image/png": "[encoded data removed]",
      "text/plain": [
       "<matplotlib.figure.Figure at 0x10e71f550>"
      ]
     },
     "metadata": {},
     "output_type": "display_data"
    }
   ],
   "source": [
    "x1 = np.linspace(-35, 35, 100)\n",
    "x2 = np.linspace(-10, 10, 100)\n",
    "f1 = x1**2\n",
    "f2 = x2**3\n",
    "\n",
    "plt.plot(x1, f1, x2, f2)\n",
    "plt.axhline()\n",
    "plt.axvline()\n",
    "plt.legend(['y = x^2', 'y = x^3'])"
   ]
  },
  {
   "cell_type": "markdown",
   "metadata": {},
   "source": [
    "## Vậy học về hàm số và vẽ đồ thị để làm gì?\n",
    "\n",
    "Trên thực tế, chúng ta được đưa cho những công cụ toán học rất mạnh, nhưng không \n",
    "đưa cho bài toán THỰC TẾ để giải. Tất cả bài tập chỉ là các con số và luyện kỹ năng\n",
    "**tính toán**, **áp dụng công thức**, cố biến chúng ta thành những cỗ máy tính toán\n",
    "chứ không phải dạy ta giải quyết vấn đề.\n",
    "\n",
    "### Hãy đảo ngược bài toán \n",
    "Giờ hãy cho một tập kết quả, và hãy tìm mối quan hệ giữa kết quả và dữ kiện.\n",
    "\n",
    "Cho một tập số liệu giữa mức lương và số năm kinh nghiệm trong một công ty,\n",
    "\n",
    "- 7 năm - lương 59 triệu\n",
    "- 6 năm - lương 46 triệu\n",
    "- 15 năm - lương 235 triệu\n",
    "- 2 năm - lương 14 triệu.\n",
    "\n",
    "Thật không đơn giản để trả lời ngay với 9 năm kinh nghiệm, lương của anh Tèo là bao nhiêu?\n",
    "\n",
    "Một cách giải bài toán này là ta hãy bắt đầu bằng việc vẽ các dữ liệu này lên đồ thị:"
   ]
  },
  {
   "cell_type": "code",
   "execution_count": 118,
   "metadata": {
    "collapsed": false
   },
   "outputs": [
    {
     "data": {
      "text/plain": [
       "<matplotlib.text.Text at 0x10f6d02b0>"
      ]
     },
     "execution_count": 118,
     "metadata": {},
     "output_type": "execute_result"
    },
    {
     "data": {
      "image/png": "[encoded data removed]",
      "text/plain": [
       "<matplotlib.figure.Figure at 0x10f5116a0>"
      ]
     },
     "metadata": {},
     "output_type": "display_data"
    }
   ],
   "source": [
    "x = [7, 6, 15, 2]\n",
    "x = sorted(x)\n",
    "y = [59, 46, 235, 14]\n",
    "y = sorted(y) # sắp xếp lại thứ tự tăng dần cho dễ vẽ \n",
    "plt.plot(x, y, 'r-', x, y, 'bx')\n",
    "plt.xlabel('năm')\n",
    "plt.ylabel('triệu')"
   ]
  },
  {
   "cell_type": "markdown",
   "metadata": {},
   "source": [
    "Như ta quan sát, mối quan hệ giữa lương và năm kinh nghiệm không phải là một đường thẳng,\n",
    "nó có vẻ cong, và tăng dần theo số năm. Nếu có hiểu biết về đồ thị hàm số, ta có thể\n",
    "đoán đây là một hàm số bậc 2, tức `y = x^2 + b`. Hãy thử vẽ đồ thị với một vài giá trị của b: 0, 5, 10"
   ]
  },
  {
   "cell_type": "code",
   "execution_count": 117,
   "metadata": {
    "collapsed": false
   },
   "outputs": [
    {
     "data": {
      "text/plain": [
       "<matplotlib.text.Text at 0x10f574438>"
      ]
     },
     "execution_count": 117,
     "metadata": {},
     "output_type": "execute_result"
    },
    {
     "data": {
      "image/png": "[encoded data removed]",
      "text/plain": [
       "<matplotlib.figure.Figure at 0x10f15b1d0>"
      ]
     },
     "metadata": {},
     "output_type": "display_data"
    }
   ],
   "source": [
    "x = np.array([7, 6, 15, 2])\n",
    "x = np.sort(x)\n",
    "y = np.array([59, 46, 235, 14])\n",
    "y = np.sort(y)\n",
    "f1 = x**2\n",
    "f2 = x**2 + 5\n",
    "f3 = x**2 + 10\n",
    "plt.plot(x, f1, x, f2, x, f3, x, y, 'bx')\n",
    "plt.legend(['y = x^2', 'y = x^2 + 5', 'y = x^2 + 10'])\n",
    "\n",
    "plt.xlabel('năm')\n",
    "plt.ylabel('triệu')"
   ]
  },
  {
   "cell_type": "markdown",
   "metadata": {},
   "source": [
    "Có thể thấy đồ thị của `y = x^2 + 10` đi qua cả 4 điểm, và nó có vẻ như là hàm số\n",
    "dùng để tính lương cho nhân viên. Khi có càng nhiều số liệu, ta càng chắc chắc hơn \n",
    "về tính chính xác của hàm số tìm được.\n",
    "Và lương của anh Tèo 9 năm kinh nghiệm có vẻ như là:"
   ]
  },
  {
   "cell_type": "code",
   "execution_count": 120,
   "metadata": {
    "collapsed": false
   },
   "outputs": [
    {
     "name": "stdout",
     "output_type": "stream",
     "text": [
      "91 triệu\n"
     ]
    }
   ],
   "source": [
    "print(9 ** 2 + 10, \"triệu\")"
   ]
  },
  {
   "cell_type": "markdown",
   "metadata": {},
   "source": [
    "Anh Tèo giàu quá, hãy yêu anh Tèo 😍"
   ]
  },
  {
   "cell_type": "markdown",
   "metadata": {},
   "source": [
    "# Giải tích - Calculus \n",
    "\n",
    "Giải tích là một nhánh của toán học, nghiên cứu về sự thay đổi (tốc độ - hay vẽ lên đồ thị, đó là độ dốc của các đường cong/thẳng), độ dài, diện tích và thể tích của vật thể. Và vì thế, nó nghiên cứu về các tính chất của một hàm số / đồ thị của nó.\n",
    "\n",
    "http://mathworld.wolfram.com/Calculus.html"
   ]
  },
  {
   "cell_type": "markdown",
   "metadata": {},
   "source": [
    "# Ooohhh\n",
    "Hãy tưởng tượng, với hiểu biết về các hàm số, ta có thể đi đoán giá nhà dựa trên mối quan hệ giữa diện tích của ngôi nhà với giá đã bán được, tính xem giá vàng ngày mai tăng hay giảm, phân biệt xem khối u nào là ác tính hay lành tính dựa trên kích thước của nó... Đó là những ứng dụng thực tế của ngành học [Machine Learning](https://medium.com/pymi/%C4%91o%C3%A1n-gi%C3%A1-chu%E1%BB%91i-tr%C3%AAn-th%E1%BB%8B-tr%C6%B0%E1%BB%9Dng-v%E1%BB%9Bi-thu%E1%BA%ADt-to%C3%A1n-ml-linear-regression-d34a880dd139) mà hàm số và đồ thị của nó là những công cụ không thể thiếu để giải quyết các bài toán trong thực tế.\n",
    "\n",
    "Còn với những ai không học \"Machine Learning\" (học máy/máy học trong tiếng Việt), hàm số là những gì đẹp đẽ, mà bạn đã vô tình dùng, khi tính tiền khi đi chợ mỗi ngày, chỉ là mình đã đạt trình \"master\" rồi nên không hề nhận ra mà thôi 😎"
   ]
  },
  {
   "cell_type": "markdown",
   "metadata": {},
   "source": [
    "# Liên quan \n",
    "\n",
    "- Tại sao sách toán có quá nhiều chi tiết kỹ thuật ... https://mathoverflow.net/questions/13089/why-do-so-many-textbooks-have-so-much-technical-detail-and-so-little-enlightenmen"
   ]
  },
  {
   "cell_type": "code",
   "execution_count": null,
   "metadata": {
    "collapsed": true
   },
   "outputs": [],
   "source": []
  }
 ],
 "metadata": {
  "kernelspec": {
   "display_name": "Python 3",
   "language": "python",
   "name": "python3"
  },
  "language_info": {
   "codemirror_mode": {
    "name": "ipython",
    "version": 3
   },
   "file_extension": ".py",
   "mimetype": "text/x-python",
   "name": "python",
   "nbconvert_exporter": "python",
   "pygments_lexer": "ipython3",
   "version": "3.5.1"
  }
 },
 "nbformat": 4,
 "nbformat_minor": 2
}
