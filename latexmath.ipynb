{
 "cells": [
  {
   "cell_type": "markdown",
   "metadata": {},
   "source": [
    "# Latex Math\n",
    "\n",
    "by HVN at https://pymi.vn \n",
    "\n",
    "Mỗi ô để gõ trong Jupyter gọi là 1 cell. Cell phải có type là MarkDown mới hiển thị được Latex \n",
    "(chọn cell, bấm chữ `m`). \n",
    "\n",
    "Dùng dấu `$` hoặc ``$$`` để bắt đầu và kết thúc biểu thức Latex. Dùng ``$$`` khi biểu thức được biểu \n",
    "diễn hoàn toàn trên một dòng riêng. \n",
    "\n",
    "Bài viết này sẽ đưa ra dạng code và theo sau là hiển thị tương ứng của công thức trên LATEX \n",
    "\n",
    "```\n",
    "Đây là biểu thức $e^{i\\pi} + 1 = 0$ 😛\n",
    "```\n",
    "\n",
    "Đây là biểu thức $e^{i\\pi} + 1 = 0$ 😛\n"
   ]
  },
  {
   "cell_type": "markdown",
   "metadata": {},
   "source": [
    "## Các chữ cái Hy Lạp hay dùng trong công thức toán (Greek letters)\n",
    "\n",
    "```\n",
    "$$ \\alpha,  \\beta, \\gamma, \\Gamma, \\pi, \\Pi, \\phi, \\varphi, \\mu, \\Phi $$\n",
    "```\n",
    "\n",
    "$$ \\alpha,  \\beta, \\gamma, \\Gamma, \\pi, \\Pi, \\phi, \\varphi, \\mu, \\Phi $$"
   ]
  },
  {
   "cell_type": "markdown",
   "metadata": {},
   "source": [
    "# Dấu mũ và chỉ số (superscripts and subscripts)\n",
    "\n",
    "Mũ: ``^i``, dùng thêm ``^{i}`` nếu i có 2 chữ số trở lên \n",
    "\n",
    "Chỉ số: ``_i``\n",
    "\n",
    "```\n",
    "$$ \\alpha_i ^ {22} + \\beta_j ^ 3 $$\n",
    "\n",
    "$$ f_{n+1} = (n+1)^{11} + f_{n} $$\n",
    "```\n",
    "\n",
    "$$ \\alpha_i ^ {22} + \\beta_j ^ 3 $$\n",
    "\n",
    "$$ f_{n+1} = (n+1)^{11} + f_{n} $$"
   ]
  },
  {
   "cell_type": "markdown",
   "metadata": {},
   "source": [
    "# Phân số (fraction)\n",
    "\n",
    "```\n",
    "$$ \\frac{numerator}{denominator} + \\frac{\\alpha_i}{\\beta_j} $$\n",
    "```\n",
    "\n",
    "$$ \\frac{numerator}{denominator} + \\frac{\\alpha_i}{\\beta_j} $$"
   ]
  },
  {
   "cell_type": "markdown",
   "metadata": {},
   "source": [
    "# Tổng (sum)\n",
    "\n",
    "```\n",
    "\\sum_{i=1}^{10} t_i\n",
    "```\n",
    "\n",
    "$$ \\sum_{i=1}^{10} t_i $$"
   ]
  },
  {
   "cell_type": "markdown",
   "metadata": {},
   "source": [
    "# Công thức tính cost function trong Neural network \n",
    "\n",
    "http://ufldl.stanford.edu/wiki/index.php/Backpropagation_Algorithm\n",
    "\n",
    "Sử dụng các ký hiệu đã học ở trên để biểu diễn một công thức phức tạp\n",
    "\n",
    "```\n",
    "$$ J(W, b) = [\\frac{1}{m} \\sum_{i=1}^{m} J(W, b; x^{(i)}, y^{(i)} ] \n",
    "   + \\frac{\\lambda}{2} \\sum_{l=1}^{n_l-1}  \\sum_{i=1}^{s_l}  \n",
    "     \\sum_{j=1}^{s_{l+1}} (W_{ji} ^{(l)})^2 $$\n",
    "```\n",
    "\n",
    "$$ J(W, b) = [\\frac{1}{m} \\sum_{i=1}^{m} J(W, b; x^{(i)}, y^{(i)} ] + \\frac{\\lambda}{2} \\sum_{l=1}^{n_l-1}  \\sum_{i=1}^{s_l}  \\sum_{j=1}^{s_{l+1}} (W_{ji} ^{(l)})^2 $$"
   ]
  },
  {
   "cell_type": "markdown",
   "metadata": {},
   "source": [
    "# Ma trận (matrix)\n",
    "\n",
    "Xem thêm các cách biểu diễn khác https://en.wikibooks.org/wiki/LaTeX/Mathematics#Matrices_and_arrays\n",
    "\n",
    "```\n",
    "$$ A_{m,n} = \n",
    "\\begin{pmatrix}\n",
    "a_{1,1} & a_{1,2} & \\cdots & a_{1,n} \\\\\n",
    "a_{2,1} & a_{2,2} & \\cdots & a_{2,n} \\\\\n",
    "\\vdots  & \\vdots  & \\ddots & \\vdots  \\\\\n",
    "a_{m,1} & a_{m,2} & \\cdots & a_{m,n} \n",
    "\\end{pmatrix} $$\n",
    "```\n",
    "\n",
    "$$ A_{m,n} = \n",
    "\\begin{pmatrix}\n",
    "a_{1,1} & a_{1,2} & \\cdots & a_{1,n} \\\\\n",
    "a_{2,1} & a_{2,2} & \\cdots & a_{2,n} \\\\\n",
    "\\vdots  & \\vdots  & \\ddots & \\vdots  \\\\\n",
    "a_{m,1} & a_{m,2} & \\cdots & a_{m,n} \n",
    "\\end{pmatrix} $$"
   ]
  },
  {
   "cell_type": "markdown",
   "metadata": {},
   "source": [
    "# Tham khảo\n",
    "\n",
    "https://en.wikibooks.org/wiki/LaTeX/Mathematics\n",
    "\n",
    "> The ability to easily include mathematical notation within markdown cells using LaTeX, and rendered natively by MathJax.\n",
    "\n",
    "http://jupyter-notebook.readthedocs.io/en/latest/notebook.html#main-features-of-the-web-application\n",
    "\n",
    "```\n",
    "Inline expressions can be added by surrounding the latex code with $:\n",
    "\n",
    "Expressions on their own line are surrounded by $$:\n",
    "```\n",
    "\n",
    "http://jupyter-notebook.readthedocs.io/en/latest/examples/Notebook/Working%20With%20Markdown%20Cells.html?highlight=latex#LaTeX-equations"
   ]
  }
 ],
 "metadata": {
  "kernelspec": {
   "display_name": "Python 3",
   "language": "python",
   "name": "python3"
  },
  "language_info": {
   "codemirror_mode": {
    "name": "ipython",
    "version": 3
   },
   "file_extension": ".py",
   "mimetype": "text/x-python",
   "name": "python",
   "nbconvert_exporter": "python",
   "pygments_lexer": "ipython3",
   "version": "3.6.0"
  }
 },
 "nbformat": 4,
 "nbformat_minor": 2
}
